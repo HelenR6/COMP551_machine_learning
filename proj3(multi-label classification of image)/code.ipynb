{
  "nbformat": 4,
  "nbformat_minor": 0,
  "metadata": {
    "colab": {
      "name": "proj3_group81.ipynb",
      "provenance": [],
      "collapsed_sections": []
    },
    "kernelspec": {
      "display_name": "Python 3",
      "name": "python3"
    }
  },
  "cells": [
    {
      "cell_type": "code",
      "metadata": {
        "id": "PpEq1zMiQBHU"
      },
      "source": [
        "import numpy as np\n",
        "import torch\n",
        "import torchvision\n",
        "import matplotlib.pyplot as plt\n",
        "from time import time\n",
        "from torchvision import datasets, transforms\n",
        "from torch import nn, optim\n",
        "import h5py\n",
        "from PIL import Image\n",
        "import cv2\n"
      ],
      "execution_count": 1,
      "outputs": []
    },
    {
      "cell_type": "code",
      "metadata": {
        "colab": {
          "base_uri": "https://localhost:8080/"
        },
        "id": "3zjfc-4URJD1",
        "outputId": "34970c22-31f2-408c-a37e-63f19a17453e"
      },
      "source": [
        "from google.colab import drive\n",
        "drive.mount('/content/drive')"
      ],
      "execution_count": null,
      "outputs": [
        {
          "output_type": "stream",
          "text": [
            "Mounted at /content/drive\n"
          ],
          "name": "stdout"
        }
      ]
    },
    {
      "cell_type": "code",
      "metadata": {
        "colab": {
          "base_uri": "https://localhost:8080/"
        },
        "id": "G2KpUUBkSDhE",
        "outputId": "292dd72a-f0c0-4844-f242-a762a6cad2b7"
      },
      "source": [
        "dataset = h5py.File(\"/content/drive/MyDrive/MNIST_synthetic.h5\",\"r\")\n",
        "dataset.keys()\n"
      ],
      "execution_count": null,
      "outputs": [
        {
          "output_type": "execute_result",
          "data": {
            "text/plain": [
              "<KeysViewHDF5 ['test_dataset', 'train_dataset', 'train_labels']>"
            ]
          },
          "metadata": {
            "tags": []
          },
          "execution_count": 3
        }
      ]
    },
    {
      "cell_type": "markdown",
      "metadata": {
        "id": "KsAJ_qNQ9sa7"
      },
      "source": [
        "## Preprocessing the dataset"
      ]
    },
    {
      "cell_type": "code",
      "metadata": {
        "colab": {
          "base_uri": "https://localhost:8080/"
        },
        "id": "bfuLrHIHSFnn",
        "outputId": "20d98ef9-e844-4f80-dcef-0aaf5384cdc9"
      },
      "source": [
        "\n",
        "test_set = dataset['test_dataset'][:]\n",
        "test_set = torch.from_numpy(test_set)\n",
        "test_set= test_set.transpose(1, 2)\n",
        "test_set= test_set.transpose(1, 3)\n",
        "\n",
        "train_set = dataset['train_dataset'][:]\n",
        "train_set = torch.from_numpy(train_set)\n",
        "train_set= train_set.transpose(1, 2)\n",
        "train_set= train_set.transpose(1, 3)\n",
        "\n",
        "\n",
        "train_labels =  np.array(dataset['train_labels'][:])\n",
        "print(\"testing set:\",test_set.shape)\n",
        "print(\"training set:\",train_set.shape)\n",
        "print(\"training set label:\",train_labels.shape)\n"
      ],
      "execution_count": null,
      "outputs": [
        {
          "output_type": "stream",
          "text": [
            "testing set: torch.Size([14000, 1, 64, 64])\n",
            "training set: torch.Size([56000, 1, 64, 64])\n",
            "training set label: (56000, 5)\n"
          ],
          "name": "stdout"
        }
      ]
    },
    {
      "cell_type": "code",
      "metadata": {
        "id": "TNS0ApEdg_kd"
      },
      "source": [
        "import cv2\n",
        "def tensor_to_cv2(tensor):\n",
        "    cv_image = tensor.numpy()\n",
        "    cv_image = cv_image[0]\n",
        "    return cv_image\n",
        "\n",
        "\n"
      ],
      "execution_count": null,
      "outputs": []
    },
    {
      "cell_type": "markdown",
      "metadata": {
        "id": "26F-X_0E960P"
      },
      "source": [
        "### Show some images"
      ]
    },
    {
      "cell_type": "code",
      "metadata": {
        "colab": {
          "base_uri": "https://localhost:8080/",
          "height": 297
        },
        "id": "LpRrXp5RjGV9",
        "outputId": "30c3b40d-270b-41a0-c3e0-b04427cde8e1"
      },
      "source": [
        "Train_imgs = [] # temperary used\n",
        "for i in range(9):\n",
        "  tensor = train_set[i] *255\n",
        "  plt.subplot(3,3,i+1)\n",
        "  plt.tight_layout()\n",
        "  img = tensor_to_cv2(tensor)\n",
        "  Train_imgs.append(img)\n",
        "  plt.imshow(img)\n",
        "plt.show()"
      ],
      "execution_count": null,
      "outputs": [
        {
          "output_type": "display_data",
          "data": {
            "image/png": "[encoded data removed]",
            "text/plain": [
              "<Figure size 432x288 with 9 Axes>"
            ]
          },
          "metadata": {
            "tags": []
          }
        }
      ]
    },
    {
      "cell_type": "markdown",
      "metadata": {
        "id": "WJ9SMCQx-Di1"
      },
      "source": [
        "### The function of dividing the dataset"
      ]
    },
    {
      "cell_type": "code",
      "metadata": {
        "id": "v18mmmzVNPez"
      },
      "source": [
        "#input: 1 image\n",
        "#output: 5 images(each image contains one digit) \n",
        "\n",
        "def grab_each_digit(cv_image):\n",
        "    kernel = np.ones((3,3),np.uint8) \n",
        "    dilate = cv2.dilate(cv_image,kernel,iterations = 1) #dialation image\n",
        "    binary_image = cv2.threshold(cv_image, 10, 255, 0)[1]\n",
        "    contours = cv2.findContours(binary_image, cv2.RETR_EXTERNAL, cv2.CHAIN_APPROX_SIMPLE)[0]\n",
        "    borders = {}\n",
        "    for contour in contours:\n",
        "        #get the cordinates of the contour\n",
        "        area = cv2.contourArea(contour)\n",
        "        #print(area)\n",
        "        if area>4: #threshold:We filter the noisy\n",
        "          x,y,w,h = cv2.boundingRect(contour)\n",
        "          borders[x] = [x, y, x+w, y+h]\n",
        "    #print(borders)\n",
        "    i=1\n",
        "    images= np.zeros((5,28,28)) #use to store 5 images\n",
        "    for key,value in sorted(borders.items()):\n",
        "      part = cv_image[value[1]-1:value[3]+1,value[0]-1:value[2]+1]\n",
        "      part = cv2.copyMakeBorder(part, 10, 10, 10, 10, cv2.BORDER_CONSTANT, value=0) #padding\n",
        "      part = cv2.resize(part,(28,28)) #change image to 28*28 pixel \n",
        "      images[i-1]=part\n",
        "      i+=1\n",
        "      if i-1>=5:\n",
        "        break\n",
        "    if i-1<5:\n",
        "        k=6-i\n",
        "        while k>0:\n",
        "            k=k-1\n",
        "            blank=np.zeros((28,28))\n",
        "            images[i-1]=blank\n",
        "            i=i+1\n",
        "    return images\n"
      ],
      "execution_count": null,
      "outputs": []
    },
    {
      "cell_type": "markdown",
      "metadata": {
        "id": "8FQCA5Qv-WV2"
      },
      "source": [
        "#### 1st example of dividing a image"
      ]
    },
    {
      "cell_type": "code",
      "metadata": {
        "colab": {
          "base_uri": "https://localhost:8080/",
          "height": 209
        },
        "id": "hyMb3WAlbFj8",
        "outputId": "1caba800-05f4-422b-fdfb-a893ec7dd861"
      },
      "source": [
        "firstImage = train_set[0] \n",
        "image = tensor_to_cv2(firstImage)\n",
        "images = grab_each_digit(image)\n",
        "plt.subplot(331)\n",
        "plt.imshow(image) \n",
        "for i in range(len(images)):\n",
        "  plt.subplot(3,3,i+2)\n",
        "  plt.imshow(images[i])\n",
        "print(train_labels[0])\n"
      ],
      "execution_count": null,
      "outputs": [
        {
          "output_type": "stream",
          "text": [
            "[ 8  5  0  3 10]\n"
          ],
          "name": "stdout"
        },
        {
          "output_type": "display_data",
          "data": {
            "image/png": "[encoded data removed]",
            "text/plain": [
              "<Figure size 432x288 with 6 Axes>"
            ]
          },
          "metadata": {
            "tags": []
          }
        }
      ]
    },
    {
      "cell_type": "markdown",
      "metadata": {
        "id": "OwsM9vrN-VY3"
      },
      "source": [
        "#### 2nd example of dividing a image"
      ]
    },
    {
      "cell_type": "code",
      "metadata": {
        "colab": {
          "base_uri": "https://localhost:8080/",
          "height": 209
        },
        "id": "nlTBgf45dFp-",
        "outputId": "81d82c7d-f412-489b-e4fb-ce8ce2fd212f"
      },
      "source": [
        "secondImage = train_set[249]\n",
        "image = tensor_to_cv2(secondImage)\n",
        "images = grab_each_digit(image)\n",
        "plt.subplot(331)\n",
        "plt.imshow(image)\n",
        "for i in range(len(images)):\n",
        "  plt.subplot(3,3,i+2)\n",
        "  plt.imshow(images[i])\n",
        "print(train_labels[249])"
      ],
      "execution_count": null,
      "outputs": [
        {
          "output_type": "stream",
          "text": [
            "[4 9 6 4 9]\n"
          ],
          "name": "stdout"
        },
        {
          "output_type": "display_data",
          "data": {
            "image/png": "[encoded data removed]",
            "text/plain": [
              "<Figure size 432x288 with 6 Axes>"
            ]
          },
          "metadata": {
            "tags": []
          }
        }
      ]
    },
    {
      "cell_type": "markdown",
      "metadata": {
        "id": "T76_cjgH-ho7"
      },
      "source": [
        "#### Store the new image into a dataset"
      ]
    },
    {
      "cell_type": "code",
      "metadata": {
        "colab": {
          "base_uri": "https://localhost:8080/"
        },
        "id": "PkXs1_pX7zyF",
        "outputId": "c5f9b863-e6b6-48b1-9353-493dcc19c547"
      },
      "source": [
        "image_set=[]\n",
        "for row in train_set:\n",
        "    image=row\n",
        "    image2=tensor_to_cv2(image)\n",
        "    images=grab_each_digit(image2)\n",
        "    #print(images.shape)\n",
        "    for image in images: #\n",
        "      image_set.append(image)\n",
        "image_set=np.array(image_set)\n",
        "print(image_set.shape)"
      ],
      "execution_count": null,
      "outputs": [
        {
          "output_type": "stream",
          "text": [
            "(280000, 28, 28)\n"
          ],
          "name": "stdout"
        }
      ]
    },
    {
      "cell_type": "markdown",
      "metadata": {
        "id": "jS62E8dA-g0-"
      },
      "source": [
        "#### Write the new dataset into a .h5 file"
      ]
    },
    {
      "cell_type": "code",
      "metadata": {
        "id": "wFzr_y5vASMC"
      },
      "source": [
        "new_train_labels= train_labels.reshape(56000*5)\n",
        "#create h5 fil\n",
        "hf = h5py.File('/content/drive/MyDrive/data.h5', 'w')\n",
        "hf.create_dataset('single_digit', data=image_set)\n",
        "hf.create_dataset('train_labels', data=new_train_labels)\n",
        "hf.close()"
      ],
      "execution_count": null,
      "outputs": []
    },
    {
      "cell_type": "markdown",
      "metadata": {
        "id": "erANB3u5wrCl"
      },
      "source": [
        "## Training the dataset"
      ]
    },
    {
      "cell_type": "code",
      "metadata": {
        "colab": {
          "base_uri": "https://localhost:8080/"
        },
        "id": "oJUESWrJM8lW",
        "outputId": "ee40f8d7-3e24-4776-fa6d-ced7e2364f75"
      },
      "source": [
        "newdataset = h5py.File(\"/content/drive/MyDrive/data.h5\",\"r\")\n",
        "newdataset.keys()"
      ],
      "execution_count": null,
      "outputs": [
        {
          "output_type": "execute_result",
          "data": {
            "text/plain": [
              "<KeysViewHDF5 ['single_digit', 'train_labels']>"
            ]
          },
          "metadata": {
            "tags": []
          },
          "execution_count": 266
        }
      ]
    },
    {
      "cell_type": "code",
      "metadata": {
        "colab": {
          "base_uri": "https://localhost:8080/"
        },
        "id": "Dc27W3jRNC39",
        "outputId": "91ee07ed-04e5-4ad7-8c39-4c69a4c5c6f6"
      },
      "source": [
        "new_train_set = newdataset['single_digit'][:]\n",
        "new_train_labels = newdataset['train_labels'][:]\n",
        "print(new_train_labels.shape)\n",
        "print(new_train_set.shape)\n",
        "def show(pcol,prow,start):\n",
        "  col,row =pcol,prow\n",
        "  for i in range(1,len(new_train_set)):\n",
        "    plt.subplot(col,row,i)\n",
        "    plt.imshow(new_train_set[i-1+start])\n",
        "\n",
        "    print(new_train_labels[i-1+start],end=' ')\n",
        "    if i%5==0:\n",
        "      print(\"\")\n",
        "    if i==col*row:\n",
        "      break\n"
      ],
      "execution_count": null,
      "outputs": [
        {
          "output_type": "stream",
          "text": [
            "(280000,)\n",
            "(280000, 28, 28)\n"
          ],
          "name": "stdout"
        }
      ]
    },
    {
      "cell_type": "markdown",
      "metadata": {
        "id": "fEpFrCr_-98j"
      },
      "source": [
        "#### Show a part of the dataset"
      ]
    },
    {
      "cell_type": "code",
      "metadata": {
        "colab": {
          "base_uri": "https://localhost:8080/",
          "height": 336
        },
        "id": "oQO65nUEPU7_",
        "outputId": "951c60d2-6ef6-4c90-b687-343b60734167"
      },
      "source": [
        "\n",
        "show(4,5,2000)"
      ],
      "execution_count": null,
      "outputs": [
        {
          "output_type": "stream",
          "text": [
            "4 7 4 8 6 \n",
            "5 5 5 10 10 \n",
            "7 3 5 9 3 \n",
            "7 6 10 10 10 \n"
          ],
          "name": "stdout"
        },
        {
          "output_type": "display_data",
          "data": {
            "image/png": "[encoded data removed]",
            "text/plain": [
              "<Figure size 432x288 with 20 Axes>"
            ]
          },
          "metadata": {
            "tags": []
          }
        }
      ]
    },
    {
      "cell_type": "markdown",
      "metadata": {
        "id": "5QNC-OBT_EdH"
      },
      "source": [
        "#### Split the dataset into the validation and training set"
      ]
    },
    {
      "cell_type": "code",
      "metadata": {
        "id": "wFOdAWtiyUaZ"
      },
      "source": [
        "inds = np.random.permutation(280000)     \n",
        "new_train_x=new_train_set[inds[:260000]]\n",
        "new_train_y=new_train_labels[inds[:260000]]\n",
        "new_test_x=new_train_set[inds[260000:280000]]\n",
        "new_test_y=new_train_labels[inds[260000:280000]]\n",
        "    \n",
        "# new_train_x=new_train_set[:260000]\n",
        "# new_train_y=new_train_labels[:260000]\n",
        "# new_test_x=new_train_set[260000:280000]\n",
        "# new_test_y=new_train_labels[260000:280000]\n",
        "new_train_x = new_train_x.reshape((260000,1,28,28))\n",
        "new_train_y=torch.tensor(new_train_y, dtype=torch.long) \n",
        "new_test_x = new_test_x.reshape((20000,1,28,28))\n",
        "new_test_y=torch.tensor(new_test_y, dtype=torch.long) "
      ],
      "execution_count": null,
      "outputs": []
    },
    {
      "cell_type": "code",
      "metadata": {
        "id": "bADOKhVxypNj"
      },
      "source": [
        "class CustomedDataSet(torch.utils.data.Dataset):\n",
        "    def __init__(self,train=True):\n",
        "        self.train = train\n",
        "        if self.train:\n",
        "            trainX=new_train_x\n",
        "            trainY=new_train_y\n",
        "            self.datalist = trainX\n",
        "            self.labellist = trainY\n",
        "        else:\n",
        "            testX=new_test_x\n",
        "            testY=new_test_y\n",
        "            self.datalist = testX\n",
        "            self.labellist = testY\n",
        "    def __getitem__(self, index):\n",
        "        if self.train:\n",
        "            return torch.Tensor(self.datalist[index].astype(float)),self.labellist[index]\n",
        "        else:\n",
        "            return torch.Tensor(self.datalist[index].astype(float)),self.labellist[index]\n",
        "    def __len__(self):\n",
        "        return self.datalist.shape[0]"
      ],
      "execution_count": null,
      "outputs": []
    },
    {
      "cell_type": "markdown",
      "metadata": {
        "id": "nMx8hi4u_KVG"
      },
      "source": [
        "#### Define the hyperparameter and the loader"
      ]
    },
    {
      "cell_type": "code",
      "metadata": {
        "id": "so70zVSxyshJ"
      },
      "source": [
        "num_epochs = 10\n",
        "batch_size = 100\n",
        "learning_rate = 0.001\n",
        "train_dataset = CustomedDataSet()\n",
        "test_dataset = CustomedDataSet(train=False)\n",
        "train_loader = torch.utils.data.DataLoader(dataset=train_dataset,\n",
        "                                           batch_size=batch_size,\n",
        "                                           shuffle=True,\n",
        "                                           num_workers=2)\n",
        "test_loader = torch.utils.data.DataLoader(dataset=test_dataset,\n",
        "                                          batch_size=batch_size,\n",
        "                                          shuffle=False)"
      ],
      "execution_count": null,
      "outputs": []
    },
    {
      "cell_type": "markdown",
      "metadata": {
        "id": "tBXPPIeC_J3T"
      },
      "source": [
        "#### Design the Convolutional Nerual Network Model (Choose one of them)"
      ]
    },
    {
      "cell_type": "code",
      "metadata": {
        "id": "BQ-72JcXyxfd"
      },
      "source": [
        "class CNN(nn.Module):\n",
        "    def __init__(self):\n",
        "        super(CNN, self).__init__()\n",
        "        self.layer1 = nn.Sequential(\n",
        "            nn.Conv2d(1 ,16, kernel_size=5,padding=2),\n",
        "            nn.BatchNorm2d(16),\n",
        "            nn.ReLU(),\n",
        "            nn.MaxPool2d(2))\n",
        "            \n",
        "        self.layer2 = nn.Sequential(\n",
        "            nn.Conv2d(16, 32, kernel_size=5,padding=2),\n",
        "            nn.BatchNorm2d(32),\n",
        "            nn.ReLU(),\n",
        "            nn.MaxPool2d(2))\n",
        "            \n",
        "        self.fc = nn.Linear(7*7*32, 11)\n",
        "        \n",
        "    def forward(self, x):\n",
        "        out = self.layer1(x)\n",
        "        out = self.layer2(out)\n",
        "        out = out.view(out.size(0), -1)\n",
        "        out = self.fc(out)\n",
        "        return out"
      ],
      "execution_count": null,
      "outputs": []
    },
    {
      "cell_type": "markdown",
      "metadata": {
        "id": "yCeOKk-Dj757"
      },
      "source": [
        "#### 3layers"
      ]
    },
    {
      "cell_type": "code",
      "metadata": {
        "id": "ftcaewT6j5oZ"
      },
      "source": [
        "class CNN(nn.Module):\n",
        "    def __init__(self):\n",
        "        super(CNN, self).__init__()\n",
        "        self.layer1 = nn.Sequential(\n",
        "            nn.Conv2d(1 ,16, kernel_size=5,padding=2),\n",
        "            nn.BatchNorm2d(16),\n",
        "            nn.ReLU(),\n",
        "            nn.MaxPool2d(2)\n",
        "            )\n",
        "            \n",
        "        self.layer2 = nn.Sequential(\n",
        "            nn.Conv2d(16, 32, kernel_size=5,padding=2),\n",
        "            nn.BatchNorm2d(32),\n",
        "            nn.ReLU(),\n",
        "            nn.MaxPool2d(2))\n",
        "            \n",
        "        self.layer3 = nn.Sequential(\n",
        "            nn.Conv2d(32, 64, kernel_size=5,padding=2),\n",
        "            nn.BatchNorm2d(64),\n",
        "            nn.ReLU(),\n",
        "            nn.MaxPool2d(2))\n",
        "            \n",
        "        self.fc = nn.Linear(7*7*64, 11)\n",
        "        \n",
        "    def forward(self, x):\n",
        "        out = self.layer1(x)\n",
        "        out = self.layer2(out)\n",
        "        out = out.view(out.size(0), -1)\n",
        "        out = self.fc(out)\n",
        "        return out"
      ],
      "execution_count": null,
      "outputs": []
    },
    {
      "cell_type": "markdown",
      "metadata": {
        "id": "TOSDEzSJ_unO"
      },
      "source": [
        "#### The Convolutional Nerual Network Model with dropout (Choose one of them)"
      ]
    },
    {
      "cell_type": "code",
      "metadata": {
        "id": "ZdP1uk4X_tMk"
      },
      "source": [
        "class CNN(nn.Module):\n",
        "    def __init__(self):\n",
        "        super(CNN, self).__init__()\n",
        "        self.layer1 = nn.Sequential(\n",
        "            nn.Conv2d(1 ,16, kernel_size=5,padding=2),\n",
        "            nn.BatchNorm2d(16),\n",
        "            nn.ReLU(),\n",
        "            nn.MaxPool2d(2),\n",
        "            nn.Dropout(p=0.5))\n",
        "            \n",
        "        self.layer2 = nn.Sequential(\n",
        "            nn.Conv2d(16, 32, kernel_size=5,padding=2),\n",
        "            nn.BatchNorm2d(32),\n",
        "            nn.ReLU(),\n",
        "            nn.MaxPool2d(2),\n",
        "            nn.Dropout(p=0.5))\n",
        "            \n",
        "        self.fc = nn.Linear(7*7*32, 11)\n",
        "        \n",
        "    def forward(self, x):\n",
        "        out = self.layer1(x)\n",
        "        out = self.layer2(out)\n",
        "        out = out.view(out.size(0), -1)\n",
        "        out = self.fc(out)\n",
        "        return out"
      ],
      "execution_count": null,
      "outputs": []
    },
    {
      "cell_type": "markdown",
      "metadata": {
        "id": "6G5lhHC8ATGq"
      },
      "source": [
        "#### load the model"
      ]
    },
    {
      "cell_type": "code",
      "metadata": {
        "id": "u1OProiLyzEz"
      },
      "source": [
        "#cnn = CNN()\n",
        "cnn= CNN()\n",
        "cnn.load_state_dict(torch.load('/content/drive/MyDrive/net_best160.pth')) #load the previous trained model\n",
        "cnn.train()\n",
        "criterion = nn.CrossEntropyLoss()\n",
        "optimizer = torch.optim.Adam(cnn.parameters(),lr=learning_rate)"
      ],
      "execution_count": null,
      "outputs": []
    },
    {
      "cell_type": "markdown",
      "metadata": {
        "id": "imC5ADS9AGAa"
      },
      "source": [
        "#### Do the Training!!!"
      ]
    },
    {
      "cell_type": "code",
      "metadata": {
        "colab": {
          "base_uri": "https://localhost:8080/"
        },
        "id": "GNZfZuz_y8Y_",
        "outputId": "d18092e9-1299-4f0d-81c8-1eac9d59ca05"
      },
      "source": [
        "for epoch in range(num_epochs):\n",
        "    for i, (images, labels) in enumerate(train_loader): \n",
        "        #Forward + Backward + Optimize\n",
        "        optimizer.zero_grad()\n",
        "        outputs = cnn(images)\n",
        "        loss = criterion(outputs,labels)\n",
        "        loss.backward()\n",
        "        optimizer.step()\n",
        "        if (i+1) % 100 == 0:\n",
        "          print(\"epoch\",epoch, \":\",i*batch_size/2600,\"%\")\n",
        "          print(\"loss:\",loss.data)\n",
        "            ##print ('Epoch [%d/%d], Iter [%d/%d] Loss: %.4f' %(epoch+1, num_epochs, i+1, len(train_dataset)//batch_size, loss.data[0]))"
      ],
      "execution_count": null,
      "outputs": [
        {
          "output_type": "stream",
          "text": [
            "epoch 0 : 3.8076923076923075 %\n",
            "loss: tensor(0.0007)\n",
            "epoch 0 : 7.653846153846154 %\n",
            "loss: tensor(0.0001)\n",
            "epoch 0 : 11.5 %\n",
            "loss: tensor(9.3184e-05)\n",
            "epoch 0 : 15.346153846153847 %\n",
            "loss: tensor(0.0001)\n",
            "epoch 0 : 19.192307692307693 %\n",
            "loss: tensor(0.0001)\n",
            "epoch 0 : 23.03846153846154 %\n",
            "loss: tensor(0.0001)\n",
            "epoch 0 : 26.884615384615383 %\n",
            "loss: tensor(0.0002)\n",
            "epoch 0 : 30.73076923076923 %\n",
            "loss: tensor(0.0001)\n",
            "epoch 0 : 34.57692307692308 %\n",
            "loss: tensor(0.0005)\n",
            "epoch 0 : 38.42307692307692 %\n",
            "loss: tensor(0.0002)\n",
            "epoch 0 : 42.26923076923077 %\n",
            "loss: tensor(0.0055)\n",
            "epoch 0 : 46.11538461538461 %\n",
            "loss: tensor(0.0001)\n",
            "epoch 0 : 49.96153846153846 %\n",
            "loss: tensor(0.0001)\n",
            "epoch 0 : 53.80769230769231 %\n",
            "loss: tensor(0.0003)\n",
            "epoch 0 : 57.65384615384615 %\n",
            "loss: tensor(0.0006)\n",
            "epoch 0 : 61.5 %\n",
            "loss: tensor(4.6570e-05)\n",
            "epoch 0 : 65.34615384615384 %\n",
            "loss: tensor(0.0012)\n",
            "epoch 0 : 69.1923076923077 %\n",
            "loss: tensor(0.0017)\n",
            "epoch 0 : 73.03846153846153 %\n",
            "loss: tensor(0.0005)\n",
            "epoch 0 : 76.88461538461539 %\n",
            "loss: tensor(0.0003)\n",
            "epoch 0 : 80.73076923076923 %\n",
            "loss: tensor(0.0003)\n",
            "epoch 0 : 84.57692307692308 %\n",
            "loss: tensor(0.0002)\n",
            "epoch 0 : 88.42307692307692 %\n",
            "loss: tensor(5.5482e-05)\n",
            "epoch 0 : 92.26923076923077 %\n",
            "loss: tensor(0.0002)\n",
            "epoch 0 : 96.11538461538461 %\n",
            "loss: tensor(0.0006)\n",
            "epoch 0 : 99.96153846153847 %\n",
            "loss: tensor(0.0003)\n",
            "epoch 1 : 3.8076923076923075 %\n",
            "loss: tensor(0.0013)\n",
            "epoch 1 : 7.653846153846154 %\n",
            "loss: tensor(0.0002)\n",
            "epoch 1 : 11.5 %\n",
            "loss: tensor(0.0005)\n",
            "epoch 1 : 15.346153846153847 %\n",
            "loss: tensor(0.0004)\n",
            "epoch 1 : 19.192307692307693 %\n",
            "loss: tensor(0.0003)\n",
            "epoch 1 : 23.03846153846154 %\n",
            "loss: tensor(0.0003)\n",
            "epoch 1 : 26.884615384615383 %\n",
            "loss: tensor(0.0005)\n",
            "epoch 1 : 30.73076923076923 %\n",
            "loss: tensor(0.0014)\n",
            "epoch 1 : 34.57692307692308 %\n",
            "loss: tensor(9.9405e-05)\n",
            "epoch 1 : 38.42307692307692 %\n",
            "loss: tensor(0.0005)\n",
            "epoch 1 : 42.26923076923077 %\n",
            "loss: tensor(0.0002)\n",
            "epoch 1 : 46.11538461538461 %\n",
            "loss: tensor(0.0014)\n",
            "epoch 1 : 49.96153846153846 %\n",
            "loss: tensor(0.0001)\n",
            "epoch 1 : 53.80769230769231 %\n",
            "loss: tensor(0.0011)\n",
            "epoch 1 : 57.65384615384615 %\n",
            "loss: tensor(0.0012)\n",
            "epoch 1 : 61.5 %\n",
            "loss: tensor(9.2213e-05)\n",
            "epoch 1 : 65.34615384615384 %\n",
            "loss: tensor(0.0004)\n",
            "epoch 1 : 69.1923076923077 %\n",
            "loss: tensor(0.0020)\n",
            "epoch 1 : 73.03846153846153 %\n",
            "loss: tensor(0.0002)\n",
            "epoch 1 : 76.88461538461539 %\n",
            "loss: tensor(0.0049)\n",
            "epoch 1 : 80.73076923076923 %\n",
            "loss: tensor(0.0025)\n",
            "epoch 1 : 84.57692307692308 %\n",
            "loss: tensor(0.0001)\n",
            "epoch 1 : 88.42307692307692 %\n",
            "loss: tensor(0.0004)\n",
            "epoch 1 : 92.26923076923077 %\n",
            "loss: tensor(0.0003)\n",
            "epoch 1 : 96.11538461538461 %\n",
            "loss: tensor(0.0003)\n",
            "epoch 1 : 99.96153846153847 %\n",
            "loss: tensor(0.0003)\n",
            "epoch 2 : 3.8076923076923075 %\n",
            "loss: tensor(0.0004)\n",
            "epoch 2 : 7.653846153846154 %\n",
            "loss: tensor(0.0006)\n",
            "epoch 2 : 11.5 %\n",
            "loss: tensor(0.0004)\n",
            "epoch 2 : 15.346153846153847 %\n",
            "loss: tensor(4.9357e-05)\n",
            "epoch 2 : 19.192307692307693 %\n",
            "loss: tensor(0.0014)\n",
            "epoch 2 : 23.03846153846154 %\n",
            "loss: tensor(0.0017)\n",
            "epoch 2 : 26.884615384615383 %\n",
            "loss: tensor(0.0006)\n",
            "epoch 2 : 30.73076923076923 %\n",
            "loss: tensor(0.0004)\n",
            "epoch 2 : 34.57692307692308 %\n",
            "loss: tensor(0.0001)\n",
            "epoch 2 : 38.42307692307692 %\n",
            "loss: tensor(0.0004)\n",
            "epoch 2 : 42.26923076923077 %\n",
            "loss: tensor(0.0002)\n",
            "epoch 2 : 46.11538461538461 %\n",
            "loss: tensor(5.7310e-05)\n",
            "epoch 2 : 49.96153846153846 %\n",
            "loss: tensor(9.0442e-05)\n",
            "epoch 2 : 53.80769230769231 %\n",
            "loss: tensor(9.4495e-05)\n",
            "epoch 2 : 57.65384615384615 %\n",
            "loss: tensor(0.0003)\n",
            "epoch 2 : 61.5 %\n",
            "loss: tensor(0.0003)\n",
            "epoch 2 : 65.34615384615384 %\n",
            "loss: tensor(0.0001)\n",
            "epoch 2 : 69.1923076923077 %\n",
            "loss: tensor(0.0001)\n",
            "epoch 2 : 73.03846153846153 %\n",
            "loss: tensor(3.4192e-05)\n",
            "epoch 2 : 76.88461538461539 %\n",
            "loss: tensor(0.0001)\n",
            "epoch 2 : 80.73076923076923 %\n",
            "loss: tensor(0.0002)\n",
            "epoch 2 : 84.57692307692308 %\n",
            "loss: tensor(0.0001)\n",
            "epoch 2 : 88.42307692307692 %\n",
            "loss: tensor(0.0001)\n",
            "epoch 2 : 92.26923076923077 %\n",
            "loss: tensor(0.0002)\n",
            "epoch 2 : 96.11538461538461 %\n",
            "loss: tensor(0.0012)\n",
            "epoch 2 : 99.96153846153847 %\n",
            "loss: tensor(5.2459e-05)\n",
            "epoch 3 : 3.8076923076923075 %\n",
            "loss: tensor(0.0001)\n",
            "epoch 3 : 7.653846153846154 %\n",
            "loss: tensor(0.0001)\n",
            "epoch 3 : 11.5 %\n",
            "loss: tensor(0.0002)\n",
            "epoch 3 : 15.346153846153847 %\n",
            "loss: tensor(0.0002)\n",
            "epoch 3 : 19.192307692307693 %\n",
            "loss: tensor(0.0003)\n",
            "epoch 3 : 23.03846153846154 %\n",
            "loss: tensor(0.0006)\n",
            "epoch 3 : 26.884615384615383 %\n",
            "loss: tensor(0.0022)\n",
            "epoch 3 : 30.73076923076923 %\n",
            "loss: tensor(0.0002)\n",
            "epoch 3 : 34.57692307692308 %\n",
            "loss: tensor(0.0008)\n",
            "epoch 3 : 38.42307692307692 %\n",
            "loss: tensor(0.0003)\n",
            "epoch 3 : 42.26923076923077 %\n",
            "loss: tensor(0.0049)\n",
            "epoch 3 : 46.11538461538461 %\n",
            "loss: tensor(0.0002)\n",
            "epoch 3 : 49.96153846153846 %\n",
            "loss: tensor(0.0004)\n",
            "epoch 3 : 53.80769230769231 %\n",
            "loss: tensor(0.0001)\n",
            "epoch 3 : 57.65384615384615 %\n",
            "loss: tensor(0.0001)\n",
            "epoch 3 : 61.5 %\n",
            "loss: tensor(0.0003)\n",
            "epoch 3 : 65.34615384615384 %\n",
            "loss: tensor(0.0004)\n",
            "epoch 3 : 69.1923076923077 %\n",
            "loss: tensor(0.0510)\n",
            "epoch 3 : 73.03846153846153 %\n",
            "loss: tensor(0.0002)\n",
            "epoch 3 : 76.88461538461539 %\n",
            "loss: tensor(0.0008)\n",
            "epoch 3 : 80.73076923076923 %\n",
            "loss: tensor(0.0006)\n",
            "epoch 3 : 84.57692307692308 %\n",
            "loss: tensor(0.0001)\n",
            "epoch 3 : 88.42307692307692 %\n",
            "loss: tensor(0.0110)\n",
            "epoch 3 : 92.26923076923077 %\n",
            "loss: tensor(0.0002)\n",
            "epoch 3 : 96.11538461538461 %\n",
            "loss: tensor(0.0019)\n",
            "epoch 3 : 99.96153846153847 %\n",
            "loss: tensor(0.0024)\n",
            "epoch 4 : 3.8076923076923075 %\n",
            "loss: tensor(0.0001)\n",
            "epoch 4 : 7.653846153846154 %\n",
            "loss: tensor(0.0032)\n",
            "epoch 4 : 11.5 %\n",
            "loss: tensor(0.0004)\n",
            "epoch 4 : 15.346153846153847 %\n",
            "loss: tensor(0.0003)\n",
            "epoch 4 : 19.192307692307693 %\n",
            "loss: tensor(0.0002)\n",
            "epoch 4 : 23.03846153846154 %\n",
            "loss: tensor(0.0003)\n",
            "epoch 4 : 26.884615384615383 %\n",
            "loss: tensor(0.0002)\n",
            "epoch 4 : 30.73076923076923 %\n",
            "loss: tensor(4.2751e-05)\n",
            "epoch 4 : 34.57692307692308 %\n",
            "loss: tensor(0.0003)\n",
            "epoch 4 : 38.42307692307692 %\n",
            "loss: tensor(0.0003)\n",
            "epoch 4 : 42.26923076923077 %\n",
            "loss: tensor(0.0003)\n",
            "epoch 4 : 46.11538461538461 %\n",
            "loss: tensor(0.1198)\n",
            "epoch 4 : 49.96153846153846 %\n",
            "loss: tensor(0.0003)\n",
            "epoch 4 : 53.80769230769231 %\n",
            "loss: tensor(0.0003)\n",
            "epoch 4 : 57.65384615384615 %\n",
            "loss: tensor(0.0002)\n",
            "epoch 4 : 61.5 %\n",
            "loss: tensor(0.0005)\n",
            "epoch 4 : 65.34615384615384 %\n",
            "loss: tensor(0.0002)\n",
            "epoch 4 : 69.1923076923077 %\n",
            "loss: tensor(0.0010)\n",
            "epoch 4 : 73.03846153846153 %\n",
            "loss: tensor(0.0758)\n",
            "epoch 4 : 76.88461538461539 %\n",
            "loss: tensor(0.0020)\n",
            "epoch 4 : 80.73076923076923 %\n",
            "loss: tensor(0.0001)\n",
            "epoch 4 : 84.57692307692308 %\n",
            "loss: tensor(0.0004)\n",
            "epoch 4 : 88.42307692307692 %\n",
            "loss: tensor(3.2962e-05)\n",
            "epoch 4 : 92.26923076923077 %\n",
            "loss: tensor(0.0003)\n",
            "epoch 4 : 96.11538461538461 %\n",
            "loss: tensor(0.0006)\n",
            "epoch 4 : 99.96153846153847 %\n",
            "loss: tensor(0.0018)\n",
            "epoch 5 : 3.8076923076923075 %\n",
            "loss: tensor(0.0008)\n",
            "epoch 5 : 7.653846153846154 %\n",
            "loss: tensor(0.0001)\n",
            "epoch 5 : 11.5 %\n",
            "loss: tensor(0.0004)\n",
            "epoch 5 : 15.346153846153847 %\n",
            "loss: tensor(0.0002)\n",
            "epoch 5 : 19.192307692307693 %\n",
            "loss: tensor(0.0002)\n",
            "epoch 5 : 23.03846153846154 %\n",
            "loss: tensor(5.7289e-05)\n",
            "epoch 5 : 26.884615384615383 %\n",
            "loss: tensor(3.9283e-05)\n",
            "epoch 5 : 30.73076923076923 %\n",
            "loss: tensor(0.0005)\n",
            "epoch 5 : 34.57692307692308 %\n",
            "loss: tensor(0.0003)\n",
            "epoch 5 : 38.42307692307692 %\n",
            "loss: tensor(0.0008)\n",
            "epoch 5 : 42.26923076923077 %\n",
            "loss: tensor(8.5340e-05)\n",
            "epoch 5 : 46.11538461538461 %\n",
            "loss: tensor(0.0004)\n",
            "epoch 5 : 49.96153846153846 %\n",
            "loss: tensor(0.0003)\n",
            "epoch 5 : 53.80769230769231 %\n",
            "loss: tensor(0.0002)\n",
            "epoch 5 : 57.65384615384615 %\n",
            "loss: tensor(0.0003)\n",
            "epoch 5 : 61.5 %\n",
            "loss: tensor(0.0001)\n",
            "epoch 5 : 65.34615384615384 %\n",
            "loss: tensor(0.0005)\n",
            "epoch 5 : 69.1923076923077 %\n",
            "loss: tensor(0.0004)\n",
            "epoch 5 : 73.03846153846153 %\n",
            "loss: tensor(0.0012)\n",
            "epoch 5 : 76.88461538461539 %\n",
            "loss: tensor(0.0002)\n",
            "epoch 5 : 80.73076923076923 %\n",
            "loss: tensor(8.1115e-05)\n",
            "epoch 5 : 84.57692307692308 %\n",
            "loss: tensor(0.0003)\n",
            "epoch 5 : 88.42307692307692 %\n",
            "loss: tensor(0.0002)\n",
            "epoch 5 : 92.26923076923077 %\n",
            "loss: tensor(8.2663e-05)\n",
            "epoch 5 : 96.11538461538461 %\n",
            "loss: tensor(0.0002)\n",
            "epoch 5 : 99.96153846153847 %\n",
            "loss: tensor(0.0002)\n",
            "epoch 6 : 3.8076923076923075 %\n",
            "loss: tensor(0.0002)\n",
            "epoch 6 : 7.653846153846154 %\n",
            "loss: tensor(9.9191e-05)\n",
            "epoch 6 : 11.5 %\n",
            "loss: tensor(0.0006)\n",
            "epoch 6 : 15.346153846153847 %\n",
            "loss: tensor(0.0020)\n",
            "epoch 6 : 19.192307692307693 %\n",
            "loss: tensor(0.0002)\n",
            "epoch 6 : 23.03846153846154 %\n",
            "loss: tensor(8.4264e-05)\n",
            "epoch 6 : 26.884615384615383 %\n",
            "loss: tensor(0.0008)\n",
            "epoch 6 : 30.73076923076923 %\n",
            "loss: tensor(0.0002)\n",
            "epoch 6 : 34.57692307692308 %\n",
            "loss: tensor(0.0012)\n",
            "epoch 6 : 38.42307692307692 %\n",
            "loss: tensor(0.0008)\n",
            "epoch 6 : 42.26923076923077 %\n",
            "loss: tensor(0.0002)\n",
            "epoch 6 : 46.11538461538461 %\n",
            "loss: tensor(0.0002)\n",
            "epoch 6 : 49.96153846153846 %\n",
            "loss: tensor(0.0003)\n",
            "epoch 6 : 53.80769230769231 %\n",
            "loss: tensor(0.0003)\n",
            "epoch 6 : 57.65384615384615 %\n",
            "loss: tensor(0.0004)\n",
            "epoch 6 : 61.5 %\n",
            "loss: tensor(0.0007)\n",
            "epoch 6 : 65.34615384615384 %\n",
            "loss: tensor(0.0004)\n",
            "epoch 6 : 69.1923076923077 %\n",
            "loss: tensor(0.0002)\n",
            "epoch 6 : 73.03846153846153 %\n",
            "loss: tensor(0.0015)\n",
            "epoch 6 : 76.88461538461539 %\n",
            "loss: tensor(0.0006)\n",
            "epoch 6 : 80.73076923076923 %\n",
            "loss: tensor(0.0002)\n",
            "epoch 6 : 84.57692307692308 %\n",
            "loss: tensor(0.0155)\n",
            "epoch 6 : 88.42307692307692 %\n",
            "loss: tensor(5.6994e-05)\n",
            "epoch 6 : 92.26923076923077 %\n",
            "loss: tensor(0.0011)\n",
            "epoch 6 : 96.11538461538461 %\n",
            "loss: tensor(0.0006)\n",
            "epoch 6 : 99.96153846153847 %\n",
            "loss: tensor(0.0003)\n",
            "epoch 7 : 3.8076923076923075 %\n",
            "loss: tensor(0.0001)\n",
            "epoch 7 : 7.653846153846154 %\n",
            "loss: tensor(0.0002)\n",
            "epoch 7 : 11.5 %\n",
            "loss: tensor(0.0003)\n",
            "epoch 7 : 15.346153846153847 %\n",
            "loss: tensor(0.0001)\n",
            "epoch 7 : 19.192307692307693 %\n",
            "loss: tensor(0.0001)\n",
            "epoch 7 : 23.03846153846154 %\n",
            "loss: tensor(0.0203)\n",
            "epoch 7 : 26.884615384615383 %\n",
            "loss: tensor(0.0003)\n",
            "epoch 7 : 30.73076923076923 %\n",
            "loss: tensor(0.0001)\n",
            "epoch 7 : 34.57692307692308 %\n",
            "loss: tensor(0.0001)\n",
            "epoch 7 : 38.42307692307692 %\n",
            "loss: tensor(0.0007)\n",
            "epoch 7 : 42.26923076923077 %\n",
            "loss: tensor(0.0003)\n",
            "epoch 7 : 46.11538461538461 %\n",
            "loss: tensor(0.0003)\n",
            "epoch 7 : 49.96153846153846 %\n",
            "loss: tensor(0.0002)\n",
            "epoch 7 : 53.80769230769231 %\n",
            "loss: tensor(0.0002)\n",
            "epoch 7 : 57.65384615384615 %\n",
            "loss: tensor(0.0003)\n",
            "epoch 7 : 61.5 %\n",
            "loss: tensor(0.0002)\n",
            "epoch 7 : 65.34615384615384 %\n",
            "loss: tensor(0.0005)\n",
            "epoch 7 : 69.1923076923077 %\n",
            "loss: tensor(0.0006)\n",
            "epoch 7 : 73.03846153846153 %\n",
            "loss: tensor(0.0003)\n",
            "epoch 7 : 76.88461538461539 %\n",
            "loss: tensor(0.0006)\n",
            "epoch 7 : 80.73076923076923 %\n",
            "loss: tensor(5.0129e-05)\n",
            "epoch 7 : 84.57692307692308 %\n",
            "loss: tensor(6.7618e-05)\n",
            "epoch 7 : 88.42307692307692 %\n",
            "loss: tensor(0.0002)\n",
            "epoch 7 : 92.26923076923077 %\n",
            "loss: tensor(0.0001)\n",
            "epoch 7 : 96.11538461538461 %\n",
            "loss: tensor(0.0002)\n",
            "epoch 7 : 99.96153846153847 %\n",
            "loss: tensor(0.0008)\n",
            "epoch 8 : 3.8076923076923075 %\n",
            "loss: tensor(0.0002)\n",
            "epoch 8 : 7.653846153846154 %\n",
            "loss: tensor(0.0002)\n",
            "epoch 8 : 11.5 %\n",
            "loss: tensor(0.0005)\n",
            "epoch 8 : 15.346153846153847 %\n",
            "loss: tensor(0.0001)\n",
            "epoch 8 : 19.192307692307693 %\n",
            "loss: tensor(0.0016)\n",
            "epoch 8 : 23.03846153846154 %\n",
            "loss: tensor(0.0013)\n",
            "epoch 8 : 26.884615384615383 %\n",
            "loss: tensor(0.0001)\n",
            "epoch 8 : 30.73076923076923 %\n",
            "loss: tensor(0.0011)\n",
            "epoch 8 : 34.57692307692308 %\n",
            "loss: tensor(0.0257)\n",
            "epoch 8 : 38.42307692307692 %\n",
            "loss: tensor(0.0002)\n",
            "epoch 8 : 42.26923076923077 %\n",
            "loss: tensor(0.0001)\n",
            "epoch 8 : 46.11538461538461 %\n",
            "loss: tensor(0.0004)\n",
            "epoch 8 : 49.96153846153846 %\n",
            "loss: tensor(0.0006)\n",
            "epoch 8 : 53.80769230769231 %\n",
            "loss: tensor(0.0001)\n",
            "epoch 8 : 57.65384615384615 %\n",
            "loss: tensor(0.0005)\n",
            "epoch 8 : 61.5 %\n",
            "loss: tensor(0.0292)\n",
            "epoch 8 : 65.34615384615384 %\n",
            "loss: tensor(0.0014)\n",
            "epoch 8 : 69.1923076923077 %\n",
            "loss: tensor(0.0005)\n",
            "epoch 8 : 73.03846153846153 %\n",
            "loss: tensor(0.0002)\n",
            "epoch 8 : 76.88461538461539 %\n",
            "loss: tensor(0.0002)\n",
            "epoch 8 : 80.73076923076923 %\n",
            "loss: tensor(0.0002)\n",
            "epoch 8 : 84.57692307692308 %\n",
            "loss: tensor(0.0203)\n",
            "epoch 8 : 88.42307692307692 %\n",
            "loss: tensor(0.0002)\n",
            "epoch 8 : 92.26923076923077 %\n",
            "loss: tensor(0.0007)\n",
            "epoch 8 : 96.11538461538461 %\n",
            "loss: tensor(0.0010)\n",
            "epoch 8 : 99.96153846153847 %\n",
            "loss: tensor(0.0002)\n",
            "epoch 9 : 3.8076923076923075 %\n",
            "loss: tensor(0.0020)\n",
            "epoch 9 : 7.653846153846154 %\n",
            "loss: tensor(0.0880)\n",
            "epoch 9 : 11.5 %\n",
            "loss: tensor(0.0002)\n",
            "epoch 9 : 15.346153846153847 %\n",
            "loss: tensor(0.0004)\n",
            "epoch 9 : 19.192307692307693 %\n",
            "loss: tensor(0.0348)\n",
            "epoch 9 : 23.03846153846154 %\n",
            "loss: tensor(8.6760e-05)\n",
            "epoch 9 : 26.884615384615383 %\n",
            "loss: tensor(0.0005)\n",
            "epoch 9 : 30.73076923076923 %\n",
            "loss: tensor(0.0010)\n",
            "epoch 9 : 34.57692307692308 %\n",
            "loss: tensor(0.0001)\n",
            "epoch 9 : 38.42307692307692 %\n",
            "loss: tensor(0.1409)\n",
            "epoch 9 : 42.26923076923077 %\n",
            "loss: tensor(6.6941e-05)\n",
            "epoch 9 : 46.11538461538461 %\n",
            "loss: tensor(0.0001)\n",
            "epoch 9 : 49.96153846153846 %\n",
            "loss: tensor(0.0002)\n",
            "epoch 9 : 53.80769230769231 %\n",
            "loss: tensor(0.0040)\n",
            "epoch 9 : 57.65384615384615 %\n",
            "loss: tensor(0.0003)\n",
            "epoch 9 : 61.5 %\n",
            "loss: tensor(0.0001)\n",
            "epoch 9 : 65.34615384615384 %\n",
            "loss: tensor(0.0003)\n",
            "epoch 9 : 69.1923076923077 %\n",
            "loss: tensor(0.0003)\n",
            "epoch 9 : 73.03846153846153 %\n",
            "loss: tensor(0.0005)\n",
            "epoch 9 : 76.88461538461539 %\n",
            "loss: tensor(0.0340)\n",
            "epoch 9 : 80.73076923076923 %\n",
            "loss: tensor(0.0003)\n",
            "epoch 9 : 84.57692307692308 %\n",
            "loss: tensor(0.0010)\n",
            "epoch 9 : 88.42307692307692 %\n",
            "loss: tensor(0.0003)\n",
            "epoch 9 : 92.26923076923077 %\n",
            "loss: tensor(0.0003)\n",
            "epoch 9 : 96.11538461538461 %\n",
            "loss: tensor(0.0001)\n",
            "epoch 9 : 99.96153846153847 %\n",
            "loss: tensor(0.0002)\n"
          ],
          "name": "stdout"
        }
      ]
    },
    {
      "cell_type": "markdown",
      "metadata": {
        "id": "F8qo_VOtAMGZ"
      },
      "source": [
        "#### Save our trained model"
      ]
    },
    {
      "cell_type": "code",
      "metadata": {
        "id": "Iz3VE1PrdXKx"
      },
      "source": [
        "\n",
        "PATH = '/content/drive/MyDrive/net_best170.pth'\n",
        "torch.save(cnn.state_dict(), PATH)"
      ],
      "execution_count": null,
      "outputs": []
    },
    {
      "cell_type": "markdown",
      "metadata": {
        "id": "b0hF1KRVcUHe"
      },
      "source": [
        "#### \btrainnig set accuracy"
      ]
    },
    {
      "cell_type": "code",
      "metadata": {
        "id": "nf4_6LKEdyys",
        "colab": {
          "base_uri": "https://localhost:8080/"
        },
        "outputId": "2e227ea8-2172-4df3-d877-ed51a3638b8d"
      },
      "source": [
        "correct = 0\n",
        "total = 260000//5\n",
        "train_wrong_list = []\n",
        "new_loader = torch.utils.data.DataLoader(dataset=train_dataset,\n",
        "                                           batch_size=5,\n",
        "                                           shuffle=False,\n",
        "                                           num_workers=2)\n",
        "cnn.eval()\n",
        "with torch.no_grad():\n",
        "    for i, (images, labels) in enumerate(new_loader):\n",
        "        outputs = cnn(images)\n",
        "        _, predicted = torch.max(outputs.data, 1)\n",
        "        if (predicted ==labels).sum().item()!=5:\n",
        "          train_wrong_list.append(i)\n",
        "        if (predicted ==labels).sum().item()==5:\n",
        "          correct+=1\n",
        "print('Accuracy of the network on the train images: %f %%' % (\n",
        "    100 * correct / total))"
      ],
      "execution_count": null,
      "outputs": [
        {
          "output_type": "stream",
          "text": [
            "Accuracy of the network on the train images: 99.813462 %\n"
          ],
          "name": "stdout"
        }
      ]
    },
    {
      "cell_type": "markdown",
      "metadata": {
        "id": "aMQRzr9vcTTf"
      },
      "source": [
        "#### Validation set accuracy"
      ]
    },
    {
      "cell_type": "code",
      "metadata": {
        "colab": {
          "base_uri": "https://localhost:8080/"
        },
        "id": "WfBPM3JCcbJF",
        "outputId": "dc1ac8c3-4583-4131-8e5b-44a6011a34ac"
      },
      "source": [
        "correct = 0\n",
        "total = 20000//5\n",
        "validate_wrong_list = []\n",
        "new_test_loader = torch.utils.data.DataLoader(dataset=test_dataset,\n",
        "                                          batch_size=5,\n",
        "                                          shuffle=False)\n",
        "with torch.no_grad():\n",
        "    for i, (images, labels) in enumerate(new_test_loader):\n",
        "        outputs = cnn(images)\n",
        "        _, predicted = torch.max(outputs.data, 1)\n",
        "        if (predicted ==labels).sum().item()!=5:\n",
        "          validate_wrong_list.append(i)\n",
        "        if (predicted ==labels).sum().item()==5:\n",
        "          correct+=1\n",
        "\n",
        "print('Accuracy of the network on the validation images: %f %%' % (\n",
        "    100 * correct / total))"
      ],
      "execution_count": null,
      "outputs": [
        {
          "output_type": "stream",
          "text": [
            "Accuracy of the network on the validation images: 99.750000 %\n"
          ],
          "name": "stdout"
        }
      ]
    },
    {
      "cell_type": "code",
      "metadata": {
        "colab": {
          "base_uri": "https://localhost:8080/"
        },
        "id": "CgAohdjX9sJR",
        "outputId": "9427eaf3-4c68-4186-e297-50ff9100177e"
      },
      "source": [
        "print(validate_wrong_list)"
      ],
      "execution_count": null,
      "outputs": [
        {
          "output_type": "stream",
          "text": [
            "[536, 796, 1009, 1307, 2140, 2641, 2712, 2989, 3219, 3299]\n"
          ],
          "name": "stdout"
        }
      ]
    },
    {
      "cell_type": "markdown",
      "metadata": {
        "id": "KHqxdre7rIml"
      },
      "source": [
        "##Prediction on the testing set"
      ]
    },
    {
      "cell_type": "markdown",
      "metadata": {
        "id": "GWTocZboAsQ_"
      },
      "source": [
        "#### preprocessing the testing set"
      ]
    },
    {
      "cell_type": "code",
      "metadata": {
        "colab": {
          "base_uri": "https://localhost:8080/"
        },
        "id": "q3VBMgXWrMiz",
        "outputId": "ff51f36d-6a19-4d78-963b-37116f20a9c3"
      },
      "source": [
        "dataset =h5py.File(\"/content/drive/MyDrive/MNIST_synthetic.h5\",\"r\")\n",
        "dataset.keys()\n",
        "test_set = dataset['test_dataset'][:]\n",
        "test_set = torch.from_numpy(test_set)\n",
        "test_set= test_set.transpose(1, 2)\n",
        "test_set= test_set.transpose(1, 3)\n",
        "image_set=[]\n",
        "for i,row in enumerate(test_set):\n",
        "    image=row\n",
        "    image2=tensor_to_cv2(image)\n",
        "    try:\n",
        "      images=grab_each_digit(image2)\n",
        "      for image in images: \n",
        "        image_set.append(image)\n",
        "    except:\n",
        "      print(i)\n",
        "\n",
        "image_set=np.array(image_set)\n",
        "print(image_set.shape)"
      ],
      "execution_count": null,
      "outputs": [
        {
          "output_type": "stream",
          "text": [
            "(70000, 28, 28)\n"
          ],
          "name": "stdout"
        }
      ]
    },
    {
      "cell_type": "code",
      "metadata": {
        "id": "VU2mhvz7B5jq"
      },
      "source": [
        "image_set = image_set.reshape((70000, 1,28, 28))\n"
      ],
      "execution_count": null,
      "outputs": []
    },
    {
      "cell_type": "markdown",
      "metadata": {
        "id": "TBrRVtjPAnDK"
      },
      "source": [
        "#### predicting !!!"
      ]
    },
    {
      "cell_type": "code",
      "metadata": {
        "id": "cvEz1XAxvPGF"
      },
      "source": [
        "test_loader2 = torch.utils.data.DataLoader(dataset=image_set,\n",
        "                                          batch_size=5,\n",
        "                                          shuffle=False)\n",
        "prediction_list = []\n",
        "with torch.no_grad():\n",
        "    for i, images in enumerate(test_loader2):\n",
        "        ##print(images.float().dtype)\n",
        "        outputs = cnn(images.float())\n",
        "        _, predicted = torch.max(outputs.data, 1)\n",
        "        aPic = []\n",
        "        for item in predicted:\n",
        "          aPic.append(item.item())\n",
        "        a = map(str, aPic)    \n",
        "        string = ''.join(a)\n",
        "        #print(string)\n",
        "        prediction_list.append(string)\n",
        "\n"
      ],
      "execution_count": null,
      "outputs": []
    },
    {
      "cell_type": "markdown",
      "metadata": {
        "id": "NllrJ254AyOZ"
      },
      "source": [
        "#### Show some of our prediction"
      ]
    },
    {
      "cell_type": "code",
      "metadata": {
        "colab": {
          "base_uri": "https://localhost:8080/",
          "height": 450
        },
        "id": "icz6exrcB-UG",
        "outputId": "2e58206b-d014-415d-baf5-eb0511a9f913"
      },
      "source": [
        "#printing the result\n",
        "Test_imgs = [] # temperary used\n",
        "for i in range(9):\n",
        "  tensor = test_set[i+240] *255\n",
        "  plt.subplot(3,3,i+1)\n",
        "  plt.tight_layout()\n",
        "  img = tensor_to_cv2(tensor)\n",
        "  # img = cv2.cvtColor(img, cv2.COLOR_BGR2GRAY)\n",
        "  Test_imgs.append(img)\n",
        "  #img = img[20:40, 0:64] \n",
        "  plt.imshow(img)\n",
        "plt.show()\n",
        "for i in range(9):\n",
        "  print(prediction_list[i+240])"
      ],
      "execution_count": null,
      "outputs": [
        {
          "output_type": "display_data",
          "data": {
            "image/png": "[encoded data removed]",
            "text/plain": [
              "<Figure size 432x288 with 9 Axes>"
            ]
          },
          "metadata": {
            "tags": [],
            "needs_background": "light"
          }
        },
        {
          "output_type": "stream",
          "text": [
            "903210\n",
            "810101010\n",
            "29935\n",
            "90360\n",
            "73101010\n",
            "37101010\n",
            "49101010\n",
            "010101010\n",
            "73226\n"
          ],
          "name": "stdout"
        }
      ]
    },
    {
      "cell_type": "markdown",
      "metadata": {
        "id": "bCQdvTINA3n7"
      },
      "source": [
        "#### Put the data into a csv file"
      ]
    },
    {
      "cell_type": "code",
      "metadata": {
        "id": "V_JDPaf5wCrq"
      },
      "source": [
        "import pandas as pd\n",
        "df = pd.DataFrame(prediction_list,columns=['Label'])\n",
        "\n",
        "df.to_csv(\"/content/drive/MyDrive/result170.csv\",index_label='Id')\n"
      ],
      "execution_count": null,
      "outputs": []
    }
  ]
}